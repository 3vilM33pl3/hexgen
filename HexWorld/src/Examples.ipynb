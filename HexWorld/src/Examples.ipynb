{
 "cells": [
  {
   "cell_type": "code",
   "execution_count": 1,
   "metadata": {},
   "outputs": [
    {
     "name": "stdout",
     "output_type": "stream",
     "text": [
      "HexagonServiceBlockingClient(http://localhost:8080)\n"
     ]
    },
    {
     "name": "stderr",
     "output_type": "stream",
     "text": [
      "WARNING: could not import HexcloudClients.Direction into HexWorld\n"
     ]
    }
   ],
   "source": [
    "include(\"HexWorld.jl\")\n",
    "client = HexWorld.HexagonServiceBlockingClient(\"http://localhost:8080\")\n",
    "if (client === missing) \n",
    "    println(\"unable to connect\")\n",
    "end\n",
    "println(client)"
   ]
  },
  {
   "cell_type": "code",
   "execution_count": 3,
   "metadata": {},
   "outputs": [
    {
     "data": {
      "text/plain": [
       "1-element Vector{AbstractString}:\n",
       " \"0000-0000-0000-0000\""
      ]
     },
     "execution_count": 3,
     "metadata": {},
     "output_type": "execute_result"
    }
   ],
   "source": [
    "hid = HexWorld.HexIDList(HexID=[\"0000-0000-0000-0000\"])\n",
    "hid.HexID"
   ]
  },
  {
   "cell_type": "code",
   "execution_count": 42,
   "metadata": {},
   "outputs": [
    {
     "data": {
      "text/plain": [
       "\"0000-0000-0000-0000\""
      ]
     },
     "execution_count": 42,
     "metadata": {},
     "output_type": "execute_result"
    }
   ],
   "source": [
    "response, status = HexWorld.RepoGetHexagonInfo(client, hid)\n",
    "response.hexInfo[1].ID"
   ]
  },
  {
   "cell_type": "code",
   "execution_count": 43,
   "metadata": {},
   "outputs": [
    {
     "data": {
      "text/plain": [
       "1"
      ]
     },
     "execution_count": 43,
     "metadata": {},
     "output_type": "execute_result"
    }
   ],
   "source": [
    "length(response.hexInfo)"
   ]
  },
  {
   "cell_type": "code",
   "execution_count": 2,
   "metadata": {},
   "outputs": [
    {
     "name": "stdout",
     "output_type": "stream",
     "text": [
      "\n",
      "\n",
      "\n",
      "\n",
      "0000-0000-0000-0000\n",
      "exits, 0\n",
      "0000-0000-0000-0001\n",
      "exits, 0\n",
      "0000-0000-0000-0002\n",
      "exits, 36\n",
      "0000-0000-0000-0003\n",
      "exits, 20\n"
     ]
    }
   ],
   "source": [
    "response, status = HexWorld.RepoGetAllHexagonInfo(client, HexWorld.Empty())\n",
    "for hi in response.hexInfo\n",
    "    println(hi.ID)\n",
    "    for (k,v) in hi.Data\n",
    "        println(\"$k, $v\")\n",
    "    end\n",
    "end"
   ]
  },
  {
   "cell_type": "code",
   "execution_count": 47,
   "metadata": {},
   "outputs": [
    {
     "data": {
      "text/plain": [
       "12-element Vector{Main.HexWorld.Hexagon}:\n",
       " Main.HexWorld.Hexagon(-2, 2, 0)\n",
       " Main.HexWorld.Hexagon(-1, 2, -1)\n",
       " Main.HexWorld.Hexagon(0, 2, -2)\n",
       " Main.HexWorld.Hexagon(1, 1, -2)\n",
       " Main.HexWorld.Hexagon(2, 0, -2)\n",
       " Main.HexWorld.Hexagon(2, -1, -1)\n",
       " Main.HexWorld.Hexagon(2, -2, 0)\n",
       " Main.HexWorld.Hexagon(1, -2, 1)\n",
       " Main.HexWorld.Hexagon(0, -2, 2)\n",
       " Main.HexWorld.Hexagon(-1, -1, 2)\n",
       " Main.HexWorld.Hexagon(-2, 0, 2)\n",
       " Main.HexWorld.Hexagon(-2, 1, 1)"
      ]
     },
     "execution_count": 47,
     "metadata": {},
     "output_type": "execute_result"
    }
   ],
   "source": [
    "HexWorld.Ring(HexWorld.Hexagon(0,0,0), 2)\n",
    "\n"
   ]
  },
  {
   "cell_type": "code",
   "execution_count": null,
   "metadata": {},
   "outputs": [],
   "source": []
  },
  {
   "cell_type": "code",
   "execution_count": null,
   "metadata": {},
   "outputs": [],
   "source": [
    "\n"
   ]
  },
  {
   "cell_type": "code",
   "execution_count": null,
   "metadata": {},
   "outputs": [],
   "source": [
    "\n",
    "    "
   ]
  },
  {
   "cell_type": "code",
   "execution_count": null,
   "metadata": {},
   "outputs": [],
   "source": []
  },
  {
   "cell_type": "code",
   "execution_count": null,
   "metadata": {},
   "outputs": [],
   "source": []
  }
 ],
 "metadata": {
  "kernelspec": {
   "display_name": "Julia 1.7.2",
   "language": "julia",
   "name": "julia-1.7"
  },
  "language_info": {
   "file_extension": ".jl",
   "mimetype": "application/julia",
   "name": "julia",
   "version": "1.7.2"
  },
  "orig_nbformat": 4
 },
 "nbformat": 4,
 "nbformat_minor": 2
}
