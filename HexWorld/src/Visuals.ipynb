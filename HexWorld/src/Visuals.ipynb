{
 "cells": [
  {
   "cell_type": "code",
   "execution_count": null,
   "metadata": {},
   "outputs": [],
   "source": [
    "using Luxor"
   ]
  },
  {
   "cell_type": "code",
   "execution_count": null,
   "metadata": {},
   "outputs": [],
   "source": [
    "Drawing(600, 600, \"test.svg\")\n",
    "origin()\n",
    "\n",
    "radius = 60\n",
    "P = Point(-300,-250)\n",
    "grid = GridHex(P, radius, 600)\n",
    "\n",
    "for i in 1:15\n",
    "    randomhue()\n",
    "    p = nextgridpoint(grid)\n",
    "    ngon(p, radius-1, 6, pi/2, :fillstroke)\n",
    "    sethue(\"white\")\n",
    "    text(string(i), p, halign=:center)\n",
    "end\n",
    "\n",
    "finish()\n",
    "preview()"
   ]
  },
  {
   "cell_type": "code",
   "execution_count": null,
   "metadata": {},
   "outputs": [],
   "source": [
    "radius = 70\n",
    "grid = GridHex(O, radius, 600)\n",
    "\n",
    "arrow(O, Point(O.x + (sqrt(3) * radius) / 2, 0))\n",
    "\n",
    "@svg for i in 1:15\n",
    "    randomhue()\n",
    "    p = nextgridpoint(grid)\n",
    "    ngon(p, radius - 5, 6, pi / 2, :fillstroke)\n",
    "    sethue(\"white\")\n",
    "    text(string(i), p, halign=:center)\n",
    "end"
   ]
  },
  {
   "cell_type": "code",
   "execution_count": null,
   "metadata": {},
   "outputs": [],
   "source": []
  }
 ],
 "metadata": {
  "kernelspec": {
   "display_name": "Julia 1.7.2",
   "language": "julia",
   "name": "julia-1.7"
  },
  "language_info": {
   "file_extension": ".jl",
   "mimetype": "application/julia",
   "name": "julia",
   "version": "1.7.2"
  },
  "orig_nbformat": 4
 },
 "nbformat": 4,
 "nbformat_minor": 2
}
